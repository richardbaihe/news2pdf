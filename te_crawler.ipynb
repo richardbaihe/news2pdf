{
 "metadata": {
  "language_info": {
   "codemirror_mode": {
    "name": "ipython",
    "version": 3
   },
   "file_extension": ".py",
   "mimetype": "text/x-python",
   "name": "python",
   "nbconvert_exporter": "python",
   "pygments_lexer": "ipython3",
   "version": "3.8.5-final"
  },
  "orig_nbformat": 2,
  "kernelspec": {
   "name": "python3",
   "display_name": "Python 3.8.5 64-bit ('base': conda)",
   "metadata": {
    "interpreter": {
     "hash": "e5ac55eb5caa09446d7f66b2982ae434449aebf62580d30fd42992979cd80d1a"
    }
   }
  }
 },
 "nbformat": 4,
 "nbformat_minor": 2,
 "cells": [
  {
   "cell_type": "code",
   "execution_count": 1,
   "metadata": {},
   "outputs": [],
   "source": [
    "import urllib, urllib.request\n",
    "from bs4 import BeautifulSoup\n",
    "import requests\n",
    "import json\n",
    "import re\n",
    "from tqdm import tqdm\n",
    "from random import randint\n",
    "from datetime import datetime\n",
    "import pandas as pd\n",
    "import pypandoc\n",
    "from tqdm import tqdm\n",
    "import pathlib\n"
   ]
  },
  {
   "cell_type": "code",
   "execution_count": 2,
   "metadata": {},
   "outputs": [],
   "source": [
    "def url_to_bs4(url):\n",
    "       hdr = {'User-Agent': 'Mozilla/5.0 (X11; Linux x86_64) AppleWebKit/537.11 (KHTML, like Gecko) Chrome/23.0.1271.64 Safari/537.11',\n",
    "       'Accept': 'text/html,application/xhtml+xml,application/xml;q=0.9,*/*;q=0.8',\n",
    "       'Accept-Charset': 'ISO-8859-1,utf-8;q=0.7,*;q=0.3',\n",
    "       'Accept-Encoding': 'none',\n",
    "       'Accept-Language': 'en-US,en;q=0.8',\n",
    "       'Connection': 'keep-alive'}\n",
    "       request = urllib.request.Request(url, headers=hdr)\n",
    "       data_str = urllib.request.urlopen(request, timeout=10).read()\n",
    "       data_str = data_str.decode('utf-8')\n",
    "       parsed_html = BeautifulSoup(data_str,'html.parser')\n",
    "       return parsed_html\n",
    "\n",
    "def get_url_list(archive_url):\n",
    "       parsed_html = url_to_bs4(archive_url)\n",
    "       all_items = json.loads(parsed_html.find('script',attrs={'type':'application/json'}).string)['props']['pageProps']['content']['hasPart']['parts']\n",
    "       return [item['url']['canonical'] for item in all_items]\n",
    "\n"
   ]
  },
  {
   "cell_type": "code",
   "execution_count": 3,
   "metadata": {},
   "outputs": [],
   "source": [
    "def html_text_piece_to_latex(item):\n",
    "    if 'class' not in item.attrs:\n",
    "        return None\n",
    "    item_class = item.attrs['class']\n",
    "    if 'article__body-text' not in item_class:\n",
    "        return None\n",
    "    paragraph = pypandoc.convert_text(item, 'tex', format='html').replace('\\n',' ')\n",
    "    if 'article__body-text--dropcap' in item_class:\n",
    "        paragraph = '\\lettrine'+paragraph\n",
    "    return paragraph\n",
    "\n",
    "\n",
    "def convert_image_url_to_tex(image_url,tex_path, is_main_image=True):\n",
    "        \n",
    "        image_local_path = os.path.join(tex_path,'images',image_url.split('/')[-1])\n",
    "        os.system(\"wget -O \"+image_local_path+\" \"+image_url)\n",
    "        if is_main_image:\n",
    "            image_tex = \"\\\\begin{figure*}[h]\\n\\\\centering\\n\\\\includegraphics[width=0.8\\\\textwidth]{images/%s}\\n\\\\end{figure*}\\n\" % image_url.split('/')[-1]\n",
    "        else:\n",
    "            #image_tex = \"\\\\begin{wrapfigure}[20]{L}{0.5\\textwidth}\\n\\\\includegraphics[width=0.4\\\\textwidth]{images/%s}\\n\\\\end{wrapfigure}\\n\" % image_url.split('/')[-1]\n",
    "            image_tex = \"\\\\begin{figure*}[h]\\n\\\\centering\\n\\\\includegraphics[width=0.4\\\\textwidth]{images/%s}\\n\\\\end{figure*}\\n\" % image_url.split('/')[-1]\n",
    "        return image_tex\n",
    "\n",
    "\n",
    "def convert_article_ulr_to_latex(article_url,tex_path):\n",
    "    parsed_article = url_to_bs4(article_url)\n",
    "    # meta info\n",
    "    json_dict = json.loads(parsed_article.find(\"script\",attrs={'type':\"application/json\"}).string)['props']['pageProps']['content']\n",
    "    if type(json_dict) is list:\n",
    "        json_dict = json_dict[0]\n",
    "    meta_dict_str = {'article_headline':json_dict['headline'],'article_subheadline':json_dict['subheadline'],'description':json_dict['description'], 'section':json_dict['_section']['sectionHeadline'], 'subsection':json_dict['_section']['sectionSubheadline'], \"date\":json_dict['datePublishedString']}\n",
    "    meta_dict_tex = {k: pypandoc.convert_text(v, 'tex', format='html').replace('\\n',' ') for k,v in meta_dict_str.items()}\n",
    "    # main image\n",
    "    main_image_url = json_dict['image']['main']['url']['canonical']\n",
    "    main_image_tex = convert_image_url_to_tex(main_image_url,tex_path)\n",
    "    # article body\n",
    "    article = []\n",
    "    for item in parsed_article.find('div',attrs={'class':'ds-layout-grid ds-layout-grid--edged layout-article-body'}).contents:\n",
    "        if 'class' not in item.attrs:\n",
    "            continue\n",
    "        item_class = item.attrs['class']\n",
    "        if 'article__body-text-image' in item_class:\n",
    "            body_image_url = item.find('div',attrs={'itemprop':'image'}).find(\"meta\",attrs={\"itemprop\":\"url\"})['content']  \n",
    "            article.append(convert_image_url_to_tex(body_image_url,tex_path,is_main_image=False))\n",
    "            for sub_item in item.contents:\n",
    "                paragraph = html_text_piece_to_latex(sub_item)\n",
    "                if paragraph:\n",
    "                    article.append(paragraph)\n",
    "        else:\n",
    "            paragraph = html_text_piece_to_latex(item)\n",
    "            if paragraph:\n",
    "                    article.append(paragraph)\n",
    "    final_tex = main_image_tex + '\\n\\n'.join(article)\n",
    "    final_tex = final_tex.replace('■','').replace(\"\\\\euro{}\",\"€\")\n",
    "    return final_tex, meta_dict_tex\n",
    "\n"
   ]
  },
  {
   "cell_type": "code",
   "execution_count": 4,
   "metadata": {},
   "outputs": [],
   "source": [
    "archive_url = 'https://www.economist.com/weeklyedition/archive'\n",
    "edition_url_list = get_url_list(archive_url)"
   ]
  },
  {
   "cell_type": "code",
   "execution_count": 5,
   "metadata": {},
   "outputs": [],
   "source": [
    "lastest_edition_url = edition_url_list[0]"
   ]
  },
  {
   "cell_type": "code",
   "execution_count": 6,
   "metadata": {},
   "outputs": [],
   "source": [
    "edition_name = lastest_edition_url.split('/')[-1]\n",
    "tex_path = os.path.join('tex',edition_name)"
   ]
  },
  {
   "cell_type": "code",
   "execution_count": 7,
   "metadata": {},
   "outputs": [],
   "source": [
    "all_articles_url = get_url_list(lastest_edition_url)"
   ]
  },
  {
   "cell_type": "code",
   "execution_count": 8,
   "metadata": {},
   "outputs": [],
   "source": [
    "tex_prefix = open('tex/template.tex','r').read()"
   ]
  },
  {
   "cell_type": "code",
   "execution_count": 10,
   "metadata": {},
   "outputs": [
    {
     "output_type": "stream",
     "name": "stderr",
     "text": [
      "100%|██████████| 82/82 [02:50<00:00,  2.08s/it]\n"
     ]
    }
   ],
   "source": [
    "pathlib.Path(tex_path+'/images').mkdir(parents=True, exist_ok=True)\n",
    "\n",
    "with open(os.path.join(tex_path,'main.tex'),'w', encoding='utf-8') as f_open:\n",
    "    f_open.write(tex_prefix)\n",
    "    current_section = ''\n",
    "    for article_url in tqdm(all_articles_url):\n",
    "        try:\n",
    "            tex, meta_info = convert_article_ulr_to_latex(article_url,tex_path)\n",
    "        except:\n",
    "            continue\n",
    "        if not current_section:\n",
    "            current_section = meta_info['section']\n",
    "            f_open.write (\"\\\\section{%s}\\n\"%meta_info['section'])\n",
    "        elif current_section!=meta_info['section']:\n",
    "            f_open.write (\"\\\\section{%s}\\n\"%meta_info['section'])\n",
    "            current_section = meta_info['section']\n",
    "        f_open.write (\"\\\\subsubsection{%s}\\n\"%meta_info['article_subheadline'])\n",
    "        f_open.write (\"\\\\subsection{%s}\\n\"%meta_info['article_headline'])\n",
    "        f_open.write (\"\\\\paragraph{Print Edition | %s \\quad \\color{gray}{%s}}\\n\"%(meta_info['section'] ,meta_info['date']))\n",
    "\n",
    "        f_open.write (tex+'\\n')\n",
    "        f_open.write('\\\\clearpage\\n')\n",
    "    f_open.write ('\\\\end{document}')\n",
    "\n",
    "\n"
   ]
  },
  {
   "cell_type": "code",
   "execution_count": 12,
   "metadata": {},
   "outputs": [],
   "source": [
    "article_url = 'https://www.economist.com/europe/2021/03/27/a-row-over-land-takes-italy-back-to-the-middle-ages'\n",
    "parsed_article = url_to_bs4(article_url)"
   ]
  },
  {
   "cell_type": "code",
   "execution_count": 13,
   "metadata": {},
   "outputs": [
    {
     "output_type": "execute_result",
     "data": {
      "text/plain": [
       "[<div class=\"layout-sticky-rail\"><div class=\"layout-sticky-rail-advert-wrapper\"><div class=\"advert right hidden advert--right-rail advert--sticky-rail\" id=\"\"><div><div id=\"econright-r1\"></div></div></div></div></div>,\n",
       " <aside class=\"article__aside\"><div class=\"layout-article-meta\"><time class=\"article__dateline-datetime\" datetime=\"2021-03-27T00:00:00Z\" itemscope=\"\" itemtype=\"http://schema.org/DateTime\">Mar 27th 2021</time><meta content=\"The Economist\" itemprop=\"author\"/><p class=\"article__dateline-location\" data-test-id=\"Dateline\" itemtype=\"http://schema.org/dateline\">ROME</p></div><div class=\"layout-article-sharing\"><ul class=\"ds-share-list\"><li id=\"Facebook\"><a aria-label=\"Share on Facebook\" class=\"ds-share-link\"><svg height=\"32\" viewbox=\"-1 -1 34 34\" width=\"32\"><title>Facebook</title><g fill=\"none\" fill-rule=\"evenodd\" id=\"share-facebook\"><circle class=\"path-background\" cx=\"16\" cy=\"16\" fill=\"#333\" r=\"16\"></circle><path class=\"path-foreground\" d=\"M17.49 26v-9.123h2.95l.44-3.555h-3.39v-2.27c0-1.03.276-1.731 1.697-1.731H21V6.14A23.34 23.34 0 0 0 18.359 6c-2.614 0-4.403 1.657-4.403 4.7v2.622H11v3.555h2.956V26h3.535z\" fill=\"#FFF\" fill-rule=\"nonzero\"></path></g></svg></a></li><li id=\"Twitter\"><a aria-label=\"Share on Twitter\" class=\"ds-share-link\"><svg height=\"32\" viewbox=\"-1 -1 34 34\" width=\"32\"><title>Twitter</title><g fill=\"none\" fill-rule=\"evenodd\" id=\"share-twitter\"><circle class=\"path-background\" cx=\"16\" cy=\"16\" fill=\"#333\" r=\"16\"></circle><path class=\"path-foreground\" d=\"M12.29 24c7.547 0 11.675-5.771 11.675-10.776 0-.164 0-.327-.012-.49A8.024 8.024 0 0 0 26 10.774a8.73 8.73 0 0 1-2.357.596c.857-.474 1.498-1.218 1.804-2.095a8.65 8.65 0 0 1-2.605.919c-1.272-1.248-3.293-1.554-4.93-.745-1.637.808-2.483 2.53-2.063 4.2-3.3-.153-6.373-1.592-8.457-3.958-1.09 1.73-.533 3.945 1.27 5.056a4.335 4.335 0 0 1-1.862-.474v.048c0 1.803 1.377 3.356 3.292 3.713a4.429 4.429 0 0 1-1.853.065c.538 1.542 2.078 2.6 3.834 2.63-1.453 1.054-3.248 1.626-5.096 1.624-.327 0-.653-.018-.977-.054a12.334 12.334 0 0 0 6.29 1.698\" fill=\"#FFF\"></path></g></svg></a></li><li id=\"LinkedIn\"><a aria-label=\"Share on LinkedIn\" class=\"ds-share-link\"><svg height=\"32\" viewbox=\"-1 -1 34 34\" width=\"32\"><title>LinkedIn</title><g fill=\"none\" fill-rule=\"evenodd\" id=\"share-linkedin\"><circle class=\"path-background\" cx=\"16\" cy=\"16\" fill=\"#333\" r=\"16\"></circle><path class=\"path-foreground\" d=\"M25 24h-3.728v-5.847c0-1.395-.025-3.188-1.938-3.188-1.942 0-2.239 1.519-2.239 3.087V24h-3.728V11.977h3.579v1.642h.05c.497-.945 1.714-1.941 3.53-1.941 3.777 0 4.474 2.49 4.474 5.727V24zM9.163 10.333A2.165 2.165 0 0 1 7 8.166C7 6.971 7.968 6 9.163 6c1.193 0 2.162.97 2.162 2.166s-.969 2.167-2.162 2.167zM7.297 24h3.73V11.977h-3.73V24z\" fill=\"#FFF\"></path></g></svg></a></li><li id=\"WhatsApp\"><a aria-label=\"Share on WhatsApp\" class=\"ds-share-link\"><svg height=\"32\" viewbox=\"-1 -1 34 34\" width=\"32\"><title>WhatsApp</title><g fill=\"none\" fill-rule=\"evenodd\"><circle class=\"path-background\" cx=\"16\" cy=\"16\" fill=\"#333\" r=\"16\"></circle><path class=\"path-foreground\" d=\"M21.582 16.985c-.249-.124-1.472-.723-1.7-.806-.228-.082-.394-.123-.56.124-.166.248-.643.806-.788.971-.145.166-.29.186-.54.062-.248-.124-1.05-.385-2-1.229-.74-.656-1.24-1.467-1.384-1.715-.145-.248-.016-.382.109-.506.112-.11.249-.289.373-.433.124-.145.166-.248.249-.414.083-.165.041-.31-.02-.433-.063-.124-.56-1.343-.768-1.84-.202-.482-.407-.416-.56-.424a10.027 10.027 0 00-.477-.009.916.916 0 00-.663.31c-.228.248-.871.847-.871 2.066 0 1.219.891 2.396 1.016 2.561.124.166 1.754 2.667 4.25 3.74.594.255 1.058.407 1.419.521.596.189 1.138.162 1.567.098.478-.07 1.472-.599 1.68-1.177.207-.579.207-1.074.145-1.178-.062-.103-.228-.165-.477-.289m-4.54 6.17h-.004a8.294 8.294 0 01-4.212-1.149l-.302-.178-3.133.817.836-3.04-.197-.31a8.189 8.189 0 01-1.265-4.385c.002-4.541 3.715-8.236 8.28-8.236a8.24 8.24 0 015.852 2.416 8.168 8.168 0 012.422 5.827c-.002 4.542-3.715 8.237-8.277 8.237m7.044-15.248A9.917 9.917 0 0017.042 5c-5.49 0-9.956 4.446-9.959 9.91 0 1.747.458 3.451 1.33 4.954L7 25l5.279-1.378a9.987 9.987 0 004.759 1.206h.004c5.488 0 9.956-4.446 9.958-9.91a9.827 9.827 0 00-2.914-7.012\" fill=\"#FFF\"></path></g></svg></a></li></ul></div></aside>,\n",
       " <p class=\"article__body-text article__body-text--dropcap\" data-caps=\"initial\"><span data-caps=\"initial\">T</span><small>ROUBLE HAS</small> been brewed on Mount Circeo, south of Rome, ever since it was home to Circe, a legendary sorceress who turned Odysseus’s shipmates into pigs. The latest tribulation arrived in envelopes that plopped onto doormats in and around the modern town of San Felice Circeo in recent weeks, and demanded that the occupants stump up five years’ back payments of a levy some had no idea they owed. The demands are the latest twist in a dispute with its origins in the Middle Ages.</p>,\n",
       " <div class=\"article-audio-player\"><figure class=\"article-audio-player__figure\"><figcaption>Listen to this story</figcaption><audio class=\"react-audio-player\" controls=\"\" controlslist=\"nodownload\" id=\"audio-player\" preload=\"none\" src=\"https://www.economist.com/media-assets/audio/045%20Europe%20-%20Italy-920654fe07f260f5e53d3014d56f585d.mp3\" title=\"A row over land takes Italy back to the Middle Ages\"><p>Your browser does not support the &lt;audio&gt; element.</p></audio></figure><p class=\"article-audio-player__cta\">Enjoy more audio and podcasts on<!-- --> <a href=\"https://apps.apple.com/app/apple-store/id1239397626?pt=344884&amp;ct=article%20audio%20player&amp;mt=8\" id=\"audio-ios-cta\" rel=\"noreferrer\" target=\"_blank\">iOS</a> <!-- -->or<!-- --> <a href=\"https://play.google.com/store/apps/details?id=com.economist.lamarr&amp;referrer=utm_source%3Darticle%2520audio%2520player\" id=\"audio-android-cta\" rel=\"noreferrer\" target=\"_blank\">Android</a>.</p></div>,\n",
       " <p class=\"article__body-text\">Several years ago, says their lawyer, Bianca Maria Menichelli, the heirs of Baron Giovanpaolo James Aguet got together to delegate one of their number to register what they say is their right to ownership of the land in the area. Their claim is based on possession of a fief—a right granted by a feudal overlord in exchange for allegiance or services. In this case, the overlord was a pope. Not even Ms Menichelli knows which one, though she says a document shows the arrangement was already in place by the 13th century.</p>,\n",
       " <p class=\"article__body-text\">After the new kingdom of Italy conquered the popes’ domain in the late 19th century, the fief passed to the government of the nascent state. Strapped for cash, the government sold it to a buyer who, in 1898, sold it to Baron Aguet. The fief brought with it not only the ownership of the land, but the right to levy an annual fee on any properties on it.</p>,\n",
       " <div class=\"advert incontent hidden advert--inline\" id=\"\"><div><div id=\"econ-1\"></div></div></div>,\n",
       " <p class=\"article__body-text\">Mario Montalbano, a local surveyor, says the baron’s descendants stopped collecting the levy at least 60 years ago and most people on Mount Circeo came to believe that they were just like homeowners elsewhere in Italy. But in 2019 those descendants’ descendants began to exercise their rights again. Residents who want to sell face having to buy their freeholds, for around 30% of the value of the property, though Mr Montalbano says it can be much more. And now they are being asked for arrears of the levy, in some cases amounting to as much as €35,000 ($40,000). A toxic brew that is worthy of Circe herself.</p>,\n",
       " <p class=\"article__footnote\" data-test-id=\"Footnote\">This article appeared in the Europe section of the print edition under the headline \"Of property rights and dead popes\"</p>,\n",
       " <div class=\"layout-article-links layout-article-promo\"><a class=\"ds-actioned-link ds-actioned-link--reuse-this-content\" href=\"https://s100.copyright.com/AppDispatchServlet?publisherName=economist&amp;publication=economist&amp;title=A%20row%20over%20land%20takes%20Italy%20back%20to%20the%20Middle%20Ages&amp;publicationDate=2021-03-27&amp;contentID=%2Fcontent%2Fajiuku8o6t4m4ra6bli4i0bbj58omgbg&amp;type=A&amp;orderBeanReset=TRUE\" target=\"_blank\"><span>Reuse this content</span></a><a class=\"ds-actioned-link ds-actioned-link--the-trust-project\" href=\"https://www.economist.com/about-the-economist\"><span>The Trust Project</span></a></div>]"
      ]
     },
     "metadata": {},
     "execution_count": 13
    }
   ],
   "source": [
    "parsed_article.find('div',attrs={'class':'ds-layout-grid ds-layout-grid--edged layout-article-body'}).contents"
   ]
  },
  {
   "cell_type": "code",
   "execution_count": 19,
   "metadata": {},
   "outputs": [
    {
     "output_type": "execute_result",
     "data": {
      "text/plain": [
       "'35,000\\n'"
      ]
     },
     "metadata": {},
     "execution_count": 19
    }
   ],
   "source": [
    "pypandoc.convert_text(\"35,000\", 'tex', format='html')"
   ]
  },
  {
   "cell_type": "code",
   "execution_count": null,
   "metadata": {},
   "outputs": [],
   "source": []
  }
 ]
}